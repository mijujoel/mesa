{
  "nbformat": 4,
  "nbformat_minor": 0,
  "metadata": {
    "colab": {
      "provenance": [],
      "authorship_tag": "ABX9TyPWR73ALorlqfwDXIU06EYL",
      "include_colab_link": true
    },
    "kernelspec": {
      "name": "python3",
      "display_name": "Python 3"
    },
    "language_info": {
      "name": "python"
    }
  },
  "cells": [
    {
      "cell_type": "markdown",
      "metadata": {
        "id": "view-in-github",
        "colab_type": "text"
      },
      "source": [
        "<a href=\"https://colab.research.google.com/github/mijujoel/mesa/blob/main/Session3.ipynb\" target=\"_parent\"><img src=\"https://colab.research.google.com/assets/colab-badge.svg\" alt=\"Open In Colab\"/></a>"
      ]
    },
    {
      "cell_type": "markdown",
      "source": [],
      "metadata": {
        "id": "fEhPEr7hsbG2"
      }
    },
    {
      "cell_type": "markdown",
      "source": [
        "#MESA\n",
        "\n",
        "Must reinstall each time it is used in colab.  \n",
        "Specific version would be mesa==1.1, for example\n",
        "Exclamation point at start of line is necessary"
      ],
      "metadata": {
        "id": "xE8AURfhsVtw"
      }
    },
    {
      "cell_type": "code",
      "source": [
        "!pip install mesa"
      ],
      "metadata": {
        "id": "spmrwkUisx2y",
        "outputId": "45b2a727-8c8e-4a00-9a46-f38929a0e87a",
        "colab": {
          "base_uri": "https://localhost:8080/"
        }
      },
      "execution_count": 1,
      "outputs": [
        {
          "output_type": "stream",
          "name": "stdout",
          "text": [
            "Looking in indexes: https://pypi.org/simple, https://us-python.pkg.dev/colab-wheels/public/simple/\n",
            "Requirement already satisfied: mesa in /usr/local/lib/python3.9/dist-packages (1.2.0)\n",
            "Requirement already satisfied: tqdm in /usr/local/lib/python3.9/dist-packages (from mesa) (4.65.0)\n",
            "Requirement already satisfied: networkx in /usr/local/lib/python3.9/dist-packages (from mesa) (3.0)\n",
            "Requirement already satisfied: click in /usr/local/lib/python3.9/dist-packages (from mesa) (8.1.3)\n",
            "Requirement already satisfied: tornado in /usr/local/lib/python3.9/dist-packages (from mesa) (6.2)\n",
            "Requirement already satisfied: numpy in /usr/local/lib/python3.9/dist-packages (from mesa) (1.22.4)\n",
            "Requirement already satisfied: cookiecutter in /usr/local/lib/python3.9/dist-packages (from mesa) (2.1.1)\n",
            "Requirement already satisfied: pandas in /usr/local/lib/python3.9/dist-packages (from mesa) (1.4.4)\n",
            "Requirement already satisfied: jinja2-time>=0.2.0 in /usr/local/lib/python3.9/dist-packages (from cookiecutter->mesa) (0.2.0)\n",
            "Requirement already satisfied: binaryornot>=0.4.4 in /usr/local/lib/python3.9/dist-packages (from cookiecutter->mesa) (0.4.4)\n",
            "Requirement already satisfied: python-slugify>=4.0.0 in /usr/local/lib/python3.9/dist-packages (from cookiecutter->mesa) (8.0.1)\n",
            "Requirement already satisfied: pyyaml>=5.3.1 in /usr/local/lib/python3.9/dist-packages (from cookiecutter->mesa) (6.0)\n",
            "Requirement already satisfied: Jinja2<4.0.0,>=2.7 in /usr/local/lib/python3.9/dist-packages (from cookiecutter->mesa) (3.1.2)\n",
            "Requirement already satisfied: requests>=2.23.0 in /usr/local/lib/python3.9/dist-packages (from cookiecutter->mesa) (2.25.1)\n",
            "Requirement already satisfied: python-dateutil>=2.8.1 in /usr/local/lib/python3.9/dist-packages (from pandas->mesa) (2.8.2)\n",
            "Requirement already satisfied: pytz>=2020.1 in /usr/local/lib/python3.9/dist-packages (from pandas->mesa) (2022.7.1)\n",
            "Requirement already satisfied: chardet>=3.0.2 in /usr/local/lib/python3.9/dist-packages (from binaryornot>=0.4.4->cookiecutter->mesa) (4.0.0)\n",
            "Requirement already satisfied: MarkupSafe>=2.0 in /usr/local/lib/python3.9/dist-packages (from Jinja2<4.0.0,>=2.7->cookiecutter->mesa) (2.1.2)\n",
            "Requirement already satisfied: arrow in /usr/local/lib/python3.9/dist-packages (from jinja2-time>=0.2.0->cookiecutter->mesa) (1.2.3)\n",
            "Requirement already satisfied: six>=1.5 in /usr/local/lib/python3.9/dist-packages (from python-dateutil>=2.8.1->pandas->mesa) (1.15.0)\n",
            "Requirement already satisfied: text-unidecode>=1.3 in /usr/local/lib/python3.9/dist-packages (from python-slugify>=4.0.0->cookiecutter->mesa) (1.3)\n",
            "Requirement already satisfied: urllib3<1.27,>=1.21.1 in /usr/local/lib/python3.9/dist-packages (from requests>=2.23.0->cookiecutter->mesa) (1.26.14)\n",
            "Requirement already satisfied: idna<3,>=2.5 in /usr/local/lib/python3.9/dist-packages (from requests>=2.23.0->cookiecutter->mesa) (2.10)\n",
            "Requirement already satisfied: certifi>=2017.4.17 in /usr/local/lib/python3.9/dist-packages (from requests>=2.23.0->cookiecutter->mesa) (2022.12.7)\n"
          ]
        }
      ]
    },
    {
      "cell_type": "markdown",
      "source": [
        "#Import MESA"
      ],
      "metadata": {
        "id": "5oZDyGc-tCKz"
      }
    },
    {
      "cell_type": "code",
      "source": [
        "import mesa"
      ],
      "metadata": {
        "id": "tx6w_5has-__"
      },
      "execution_count": 2,
      "outputs": []
    },
    {
      "cell_type": "markdown",
      "source": [
        "#Resource Classes"
      ],
      "metadata": {
        "id": "bjwwIZXotL69"
      }
    },
    {
      "cell_type": "code",
      "source": [
        "class Sugar(mesa.Agent):\n",
        "  '''\n",
        "  Sugar:\n",
        "  - contains some sugar\n",
        "  - one amount of sugar per iteration\n",
        "  '''\n",
        "  def __init__(self):\n",
        "    print(\"I am sugar.\")\n",
        "\n",
        "class Spice(mesa.Agent):\n",
        "  '''\n",
        "  Spice:\n",
        "  - contains some spice\n",
        "  - increments one amount per iteration\n",
        "  '''\n",
        "  def __init__(self):\n",
        "    print(\"I am spice.\")\n",
        "\n"
      ],
      "metadata": {
        "id": "EYaQze1JtIEQ"
      },
      "execution_count": 3,
      "outputs": []
    },
    {
      "cell_type": "markdown",
      "source": [
        "#Trader"
      ],
      "metadata": {
        "id": "O-bPZjszt8U6"
      }
    },
    {
      "cell_type": "code",
      "source": [
        "class Trader(mesa.Agent):\n",
        "  '''\n",
        "  Trader:\n",
        "  - has a metabolism to process sugar and spice\n",
        "  - harvest and trade sugar and spice\n",
        "  '''\n",
        "  def __init__(self):\n",
        "    print(\"I am a trader.\")"
      ],
      "metadata": {
        "id": "dM_0orWLt-76"
      },
      "execution_count": 4,
      "outputs": []
    },
    {
      "cell_type": "markdown",
      "source": [
        "#Model class"
      ],
      "metadata": {
        "id": "L3sBWRVvuRNX"
      }
    },
    {
      "cell_type": "code",
      "source": [
        "class SugarscapeG1mt(mesa.Model):\n",
        "  '''\n",
        "  SugarscapeG1mt:\n",
        "  - Same name as used in Axtell and Epstein, \"Growing Artificial Societies (1996)\n",
        "  - This is used to manage traders\n",
        "  - Note that this is a model class, not an agent\n",
        "  '''\n",
        "\n",
        "  def __init__(self):   #initiates subclasses\n",
        "    self.sugar = Sugar()\n",
        "    self.spice = Spice()\n",
        "    self.trader = Trader()\n",
        "\n",
        "  model = SugarscapeG1mt()"
      ],
      "metadata": {
        "id": "z6RH-6AXuUD2",
        "outputId": "aef77dd7-7463-45ea-de39-f7c59a76d9e0",
        "colab": {
          "base_uri": "https://localhost:8080/",
          "height": 321
        }
      },
      "execution_count": 5,
      "outputs": [
        {
          "output_type": "error",
          "ename": "NameError",
          "evalue": "ignored",
          "traceback": [
            "\u001b[0;31m---------------------------------------------------------------------------\u001b[0m",
            "\u001b[0;31mNameError\u001b[0m                                 Traceback (most recent call last)",
            "\u001b[0;32m<ipython-input-5-c5990db89c89>\u001b[0m in \u001b[0;36m<module>\u001b[0;34m\u001b[0m\n\u001b[0;32m----> 1\u001b[0;31m \u001b[0;32mclass\u001b[0m \u001b[0mSugarscapeG1mt\u001b[0m\u001b[0;34m(\u001b[0m\u001b[0mmesa\u001b[0m\u001b[0;34m.\u001b[0m\u001b[0mModel\u001b[0m\u001b[0;34m)\u001b[0m\u001b[0;34m:\u001b[0m\u001b[0;34m\u001b[0m\u001b[0;34m\u001b[0m\u001b[0m\n\u001b[0m\u001b[1;32m      2\u001b[0m   '''\n\u001b[1;32m      3\u001b[0m   \u001b[0mSugarscapeG1mt\u001b[0m\u001b[0;34m:\u001b[0m\u001b[0;34m\u001b[0m\u001b[0;34m\u001b[0m\u001b[0m\n\u001b[1;32m      4\u001b[0m   \u001b[0;34m-\u001b[0m \u001b[0mSame\u001b[0m \u001b[0mname\u001b[0m \u001b[0;32mas\u001b[0m \u001b[0mused\u001b[0m \u001b[0;32min\u001b[0m \u001b[0mAxtell\u001b[0m \u001b[0;32mand\u001b[0m \u001b[0mEpstein\u001b[0m\u001b[0;34m,\u001b[0m\u001b[0;31m \u001b[0m\u001b[0;31m\"\u001b[0m\u001b[0mGrowing\u001b[0m \u001b[0mArtificial\u001b[0m \u001b[0mSocieties\u001b[0m \u001b[0;34m(\u001b[0m\u001b[0;36m1996\u001b[0m\u001b[0;34m)\u001b[0m\u001b[0;34m\u001b[0m\u001b[0;34m\u001b[0m\u001b[0m\n\u001b[1;32m      5\u001b[0m   \u001b[0;34m-\u001b[0m \u001b[0mThis\u001b[0m \u001b[0;32mis\u001b[0m \u001b[0mused\u001b[0m \u001b[0mto\u001b[0m \u001b[0mmanage\u001b[0m \u001b[0mtraders\u001b[0m\u001b[0;34m\u001b[0m\u001b[0;34m\u001b[0m\u001b[0m\n",
            "\u001b[0;32m<ipython-input-5-c5990db89c89>\u001b[0m in \u001b[0;36mSugarscapeG1mt\u001b[0;34m()\u001b[0m\n\u001b[1;32m     12\u001b[0m     \u001b[0mself\u001b[0m\u001b[0;34m.\u001b[0m\u001b[0mtrader\u001b[0m \u001b[0;34m=\u001b[0m \u001b[0mTrader\u001b[0m\u001b[0;34m(\u001b[0m\u001b[0;34m)\u001b[0m\u001b[0;34m\u001b[0m\u001b[0;34m\u001b[0m\u001b[0m\n\u001b[1;32m     13\u001b[0m \u001b[0;34m\u001b[0m\u001b[0m\n\u001b[0;32m---> 14\u001b[0;31m   \u001b[0mmodel\u001b[0m \u001b[0;34m=\u001b[0m \u001b[0mSugarscapeG1mt\u001b[0m\u001b[0;34m(\u001b[0m\u001b[0;34m)\u001b[0m\u001b[0;34m\u001b[0m\u001b[0;34m\u001b[0m\u001b[0m\n\u001b[0m",
            "\u001b[0;31mNameError\u001b[0m: name 'SugarscapeG1mt' is not defined"
          ]
        }
      ]
    },
    {
      "cell_type": "code",
      "source": [],
      "metadata": {
        "id": "ii4-RPCjvlO_"
      },
      "execution_count": null,
      "outputs": []
    }
  ]
}