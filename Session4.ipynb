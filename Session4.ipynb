{
  "cells": [
    {
      "cell_type": "markdown",
      "metadata": {
        "id": "view-in-github",
        "colab_type": "text"
      },
      "source": [
        "<a href=\"https://colab.research.google.com/github/mijujoel/mesa/blob/main/Session4.ipynb\" target=\"_parent\"><img src=\"https://colab.research.google.com/assets/colab-badge.svg\" alt=\"Open In Colab\"/></a>"
      ]
    },
    {
      "cell_type": "markdown",
      "metadata": {
        "id": "xE8AURfhsVtw"
      },
      "source": [
        "## MESA Installation\n",
        "\n",
        "Must reinstall each time it is used in colab.  \n",
        "Specific version would be mesa==1.1, for example\n",
        "Exclamation point at start of line is necessary"
      ]
    },
    {
      "cell_type": "code",
      "execution_count": null,
      "metadata": {
        "colab": {
          "base_uri": "https://localhost:8080/"
        },
        "id": "spmrwkUisx2y",
        "outputId": "44720557-4f76-4093-8ac8-802dfeb1eff8"
      },
      "outputs": [
        {
          "name": "stdout",
          "output_type": "stream",
          "text": [
            "Requirement already satisfied: mesa in c:\\users\\msamuels\\anaconda3\\envs\\mesa\\lib\\site-packages (1.2.0)\n",
            "Requirement already satisfied: networkx in c:\\users\\msamuels\\anaconda3\\envs\\mesa\\lib\\site-packages (from mesa) (3.0)\n",
            "Requirement already satisfied: cookiecutter in c:\\users\\msamuels\\anaconda3\\envs\\mesa\\lib\\site-packages (from mesa) (2.1.1)\n",
            "Requirement already satisfied: tqdm in c:\\users\\msamuels\\anaconda3\\envs\\mesa\\lib\\site-packages (from mesa) (4.65.0)\n",
            "Requirement already satisfied: numpy in c:\\users\\msamuels\\anaconda3\\envs\\mesa\\lib\\site-packages (from mesa) (1.24.2)\n",
            "Requirement already satisfied: click in c:\\users\\msamuels\\anaconda3\\envs\\mesa\\lib\\site-packages (from mesa) (8.1.3)\n",
            "Requirement already satisfied: tornado in c:\\users\\msamuels\\anaconda3\\envs\\mesa\\lib\\site-packages (from mesa) (6.2)\n",
            "Requirement already satisfied: pandas in c:\\users\\msamuels\\anaconda3\\envs\\mesa\\lib\\site-packages (from mesa) (1.5.3)\n",
            "Requirement already satisfied: colorama in c:\\users\\msamuels\\anaconda3\\envs\\mesa\\lib\\site-packages (from click->mesa) (0.4.6)\n",
            "Requirement already satisfied: jinja2-time>=0.2.0 in c:\\users\\msamuels\\anaconda3\\envs\\mesa\\lib\\site-packages (from cookiecutter->mesa) (0.2.0)\n",
            "Requirement already satisfied: pyyaml>=5.3.1 in c:\\users\\msamuels\\anaconda3\\envs\\mesa\\lib\\site-packages (from cookiecutter->mesa) (6.0)\n",
            "Requirement already satisfied: python-slugify>=4.0.0 in c:\\users\\msamuels\\anaconda3\\envs\\mesa\\lib\\site-packages (from cookiecutter->mesa) (8.0.1)\n",
            "Requirement already satisfied: requests>=2.23.0 in c:\\users\\msamuels\\anaconda3\\envs\\mesa\\lib\\site-packages (from cookiecutter->mesa) (2.28.1)\n",
            "Requirement already satisfied: binaryornot>=0.4.4 in c:\\users\\msamuels\\anaconda3\\envs\\mesa\\lib\\site-packages (from cookiecutter->mesa) (0.4.4)\n",
            "Requirement already satisfied: Jinja2<4.0.0,>=2.7 in c:\\users\\msamuels\\anaconda3\\envs\\mesa\\lib\\site-packages (from cookiecutter->mesa) (3.1.2)\n",
            "Requirement already satisfied: python-dateutil>=2.8.1 in c:\\users\\msamuels\\anaconda3\\envs\\mesa\\lib\\site-packages (from pandas->mesa) (2.8.2)\n",
            "Requirement already satisfied: pytz>=2020.1 in c:\\users\\msamuels\\appdata\\roaming\\python\\python310\\site-packages (from pandas->mesa) (2022.2.1)\n",
            "Requirement already satisfied: chardet>=3.0.2 in c:\\users\\msamuels\\anaconda3\\envs\\mesa\\lib\\site-packages (from binaryornot>=0.4.4->cookiecutter->mesa) (5.1.0)\n",
            "Requirement already satisfied: MarkupSafe>=2.0 in c:\\users\\msamuels\\anaconda3\\envs\\mesa\\lib\\site-packages (from Jinja2<4.0.0,>=2.7->cookiecutter->mesa) (2.1.1)\n",
            "Requirement already satisfied: arrow in c:\\users\\msamuels\\anaconda3\\envs\\mesa\\lib\\site-packages (from jinja2-time>=0.2.0->cookiecutter->mesa) (1.2.3)\n",
            "Requirement already satisfied: six>=1.5 in c:\\users\\msamuels\\anaconda3\\envs\\mesa\\lib\\site-packages (from python-dateutil>=2.8.1->pandas->mesa) (1.16.0)\n",
            "Requirement already satisfied: text-unidecode>=1.3 in c:\\users\\msamuels\\anaconda3\\envs\\mesa\\lib\\site-packages (from python-slugify>=4.0.0->cookiecutter->mesa) (1.3)\n",
            "Requirement already satisfied: certifi>=2017.4.17 in c:\\users\\msamuels\\anaconda3\\envs\\mesa\\lib\\site-packages (from requests>=2.23.0->cookiecutter->mesa) (2022.12.7)\n",
            "Requirement already satisfied: charset-normalizer<3,>=2 in c:\\users\\msamuels\\anaconda3\\envs\\mesa\\lib\\site-packages (from requests>=2.23.0->cookiecutter->mesa) (2.0.4)\n",
            "Requirement already satisfied: idna<4,>=2.5 in c:\\users\\msamuels\\anaconda3\\envs\\mesa\\lib\\site-packages (from requests>=2.23.0->cookiecutter->mesa) (3.4)\n",
            "Requirement already satisfied: urllib3<1.27,>=1.21.1 in c:\\users\\msamuels\\anaconda3\\envs\\mesa\\lib\\site-packages (from requests>=2.23.0->cookiecutter->mesa) (1.26.14)\n"
          ]
        }
      ],
      "source": [
        "!pip install mesa"
      ]
    },
    {
      "cell_type": "markdown",
      "metadata": {
        "id": "5oZDyGc-tCKz"
      },
      "source": [
        "## Import Dependencies"
      ]
    },
    {
      "cell_type": "code",
      "execution_count": null,
      "metadata": {
        "colab": {
          "base_uri": "https://localhost:8080/"
        },
        "id": "tx6w_5has-__",
        "outputId": "dad27831-d377-4703-df0f-59a8afb7d79b"
      },
      "outputs": [
        {
          "name": "stdout",
          "output_type": "stream",
          "text": [
            "Imported dependencies\n"
          ]
        }
      ],
      "source": [
        "import mesa\n",
        "import os\n",
        "import numpy as np\n",
        "import math\n",
        "import matplotlib.pyplot as plt\n",
        "\n",
        "%matplotlib inline\n",
        "\n",
        "print(\"Imported dependencies\")"
      ]
    },
    {
      "cell_type": "markdown",
      "metadata": {
        "id": "3dfwoxRjNPKc"
      },
      "source": [
        "## Where am I?"
      ]
    },
    {
      "cell_type": "code",
      "execution_count": null,
      "metadata": {
        "colab": {
          "base_uri": "https://localhost:8080/"
        },
        "id": "zPchyX74NSaG",
        "outputId": "b4201ea0-5573-42b6-f445-a1afbeb0a245"
      },
      "outputs": [
        {
          "name": "stdout",
          "output_type": "stream",
          "text": [
            "Current directory:\n"
          ]
        },
        {
          "data": {
            "text/plain": [
              "'C:\\\\Users\\\\msamuels\\\\OneDrive - The MITRE Corporation\\\\Documents\\\\MyTraining\\\\MesaABM\\\\Session4'"
            ]
          },
          "execution_count": 3,
          "metadata": {},
          "output_type": "execute_result"
        }
      ],
      "source": [
        "print(\"Current directory:\")\n",
        "os.getcwd()\n",
        "\n",
        "\n"
      ]
    },
    {
      "cell_type": "markdown",
      "metadata": {
        "id": "bjwwIZXotL69"
      },
      "source": [
        "## Resource Classes"
      ]
    },
    {
      "cell_type": "code",
      "execution_count": null,
      "metadata": {
        "id": "EYaQze1JtIEQ"
      },
      "outputs": [],
      "source": [
        "class Sugar(mesa.Agent):\n",
        "  '''\n",
        "  Sugar:\n",
        "  - contains some sugar\n",
        "  - one amount of sugar per iteration\n",
        "  - expanded attributes from Session 3\n",
        "  '''\n",
        "  def __init__(self, unique_id, model, pos, max_sugar):\n",
        "    print(\"I am sugar.\")\n",
        "\n",
        "class Spice(mesa.Agent):\n",
        "  '''\n",
        "  Spice:\n",
        "  - contains some spice\n",
        "  - increments one amount per iteration\n",
        "  '''\n",
        "  def __init__(self):\n",
        "    print(\"I am spice.\")\n",
        "\n"
      ]
    },
    {
      "cell_type": "markdown",
      "metadata": {
        "id": "O-bPZjszt8U6"
      },
      "source": [
        "## Trader"
      ]
    },
    {
      "cell_type": "code",
      "execution_count": null,
      "metadata": {
        "id": "dM_0orWLt-76"
      },
      "outputs": [],
      "source": [
        "class Trader(mesa.Agent):\n",
        "  '''\n",
        "  Trader:\n",
        "  - has a metabolism to process sugar and spice\n",
        "  - harvest and trade sugar and spice\n",
        "  '''\n",
        "  def __init__(self):\n",
        "    print(\"I am a trader.\")"
      ]
    },
    {
      "cell_type": "markdown",
      "metadata": {
        "id": "L3sBWRVvuRNX"
      },
      "source": [
        "## Model class"
      ]
    },
    {
      "cell_type": "code",
      "execution_count": null,
      "metadata": {
        "id": "z6RH-6AXuUD2"
      },
      "outputs": [],
      "source": [
        "class SugarscapeG1mt(mesa.Model):\n",
        "  '''\n",
        "  SugarscapeG1mt:\n",
        "  - Same name as used in Axtell and Epstein, \"Growing Artificial Societies (1996)\n",
        "  - This is used to manage traders\n",
        "  - Note that this is a model class, not an agent\n",
        "  '''\n",
        "\n",
        "  def __init__(self, width=50, height=50):   #initiates subclasses\n",
        "\n",
        "    #Initiate size\n",
        "    self.width = width\n",
        "    self.height = height\n",
        "\n",
        "    #Set up Mesa grid\n",
        "    self.grid = mesa.space.MultiGrid(self.width, self.height, torus=False)\n",
        "    \n",
        "    #read in landscape\n",
        "    sugar_distribution = np.genfromtxt(\".\\sugar-map.txt\")\n",
        "    spice_distribution = np.flip(sugar_distribution, 1)\n",
        "    plt.imshow(spice_distribution, origin=\"lower\")\n"
      ]
    },
    {
      "cell_type": "markdown",
      "metadata": {
        "id": "cb3bUqATLeCs"
      },
      "source": [
        "## Run Sugarscape"
      ]
    },
    {
      "cell_type": "code",
      "execution_count": null,
      "metadata": {
        "id": "VNleN3YMLhjE",
        "outputId": "3b0705f5-7fd9-4d05-8edd-3ffcff473367"
      },
      "outputs": [
        {
          "data": {
            "image/png": "[encoded data removed]",
            "text/plain": [
              "<Figure size 640x480 with 1 Axes>"
            ]
          },
          "metadata": {},
          "output_type": "display_data"
        }
      ],
      "source": [
        "model = SugarscapeG1mt()"
      ]
    },
    {
      "cell_type": "code",
      "execution_count": null,
      "metadata": {
        "id": "RD2jPPUdpTZs"
      },
      "outputs": [],
      "source": []
    }
  ],
  "metadata": {
    "colab": {
      "provenance": [],
      "include_colab_link": true
    },
    "kernelspec": {
      "display_name": "Python 3 (ipykernel)",
      "language": "python",
      "name": "python3"
    },
    "language_info": {
      "codemirror_mode": {
        "name": "ipython",
        "version": 3
      },
      "file_extension": ".py",
      "mimetype": "text/x-python",
      "name": "python",
      "nbconvert_exporter": "python",
      "pygments_lexer": "ipython3",
      "version": "3.10.9"
    }
  },
  "nbformat": 4,
  "nbformat_minor": 0
}